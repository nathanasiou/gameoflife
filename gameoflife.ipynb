{
 "cells": [
  {
   "cell_type": "code",
   "execution_count": 1,
   "id": "3c35efb2-2eda-4355-9273-aa218955260e",
   "metadata": {},
   "outputs": [
    {
     "name": "stdout",
     "output_type": "stream",
     "text": [
      "[[0 0 0 0 0 0 0 0 0 0]\n",
      " [0 0 0 1 0 0 0 0 1 0]\n",
      " [0 0 1 0 0 0 0 0 0 0]\n",
      " [0 0 0 0 0 0 0 0 0 0]\n",
      " [0 0 0 0 0 0 0 0 0 0]\n",
      " [0 0 0 0 0 0 0 0 0 0]\n",
      " [0 0 0 0 0 0 0 0 0 0]\n",
      " [0 0 0 0 0 0 0 0 0 0]\n",
      " [0 0 0 0 0 0 0 0 0 0]\n",
      " [0 0 0 0 0 0 0 0 0 1]]\n"
     ]
    }
   ],
   "source": [
    "import numpy as np\n",
    "import random\n",
    "m = 10\n",
    "n = 10\n",
    "# initialize blank board\n",
    "base_array = np.zeros((m,n), dtype = int)\n",
    "\n",
    "# randomly select number of cells to be initialized with starting state alive or value of 1\n",
    "rand_num_ones = int(np.random.default_rng().random() * m * n)\n",
    "\n",
    "# generate random numbers for row and column indices\n",
    "rand_ms = np.random.default_rng().integers(low = 0, high = m, size = rand_num_ones)\n",
    "rand_ns = np.random.default_rng().integers(low = 0, high = n, size = rand_num_ones)\n",
    "\n",
    "# set random coordinates above equal to one in the base array of zeros.\n",
    "for i in range(rand_num_ones):\n",
    "    base_array[rand_ms[i], rand_ns[i]] = 1  \n",
    "print(base_array)\n"
   ]
  }
 ],
 "metadata": {
  "kernelspec": {
   "display_name": "Python 3 (ipykernel)",
   "language": "python",
   "name": "python3"
  },
  "language_info": {
   "codemirror_mode": {
    "name": "ipython",
    "version": 3
   },
   "file_extension": ".py",
   "mimetype": "text/x-python",
   "name": "python",
   "nbconvert_exporter": "python",
   "pygments_lexer": "ipython3",
   "version": "3.12.3"
  }
 },
 "nbformat": 4,
 "nbformat_minor": 5
}
