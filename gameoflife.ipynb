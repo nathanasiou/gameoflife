{
 "cells": [
  {
   "cell_type": "code",
   "execution_count": 1,
   "id": "3c35efb2-2eda-4355-9273-aa218955260e",
   "metadata": {
    "scrolled": true
   },
   "outputs": [],
   "source": [
    "import numpy as np\n",
    "import random\n",
    "\n",
    "def game_of_life(m = 10,n = 10):\n",
    "    # initialize blank board\n",
    "    base_population = np.zeros((m,n), dtype = int)\n",
    "    \n",
    "    # randomly select number of cells to be initialized with starting state alive or value of 1\n",
    "    rand_num_ones = int(np.random.default_rng().random() * m * n)\n",
    "    \n",
    "    # generate random numbers for row and column indices\n",
    "    rand_ms = np.random.default_rng().integers(low = 0, high = m, size = rand_num_ones)\n",
    "    rand_ns = np.random.default_rng().integers(low = 0, high = n, size = rand_num_ones)\n",
    "    \n",
    "    # set random coordinates above equal to one in the base array of zeros\n",
    "    alive = {}\n",
    "    for i in range(rand_num_ones):\n",
    "        base_population[rand_ms[i], rand_ns[i]] = 1  \n",
    "        base_population[rand_ms[i], rand_ns[i]] = 1 \n",
    "    # print(base_population)\n",
    "    \n",
    "    def cell_live_die_or_multiply(original_population):\n",
    "        population = original_population.copy()\n",
    "        iterations = 0\n",
    "        SimulationComplete = False\n",
    "        \n",
    "        while True:\n",
    "            # print(SimulationComplete)\n",
    "            iterations += 1\n",
    "            if iterations == 1:\n",
    "                second_last_population = np.zeros((population.shape[0], population.shape[1]))\n",
    "                last_population = base_population.copy() # making copy to check if 2 states ago equals current state -- then in a repeating sequence\n",
    "            elif iterations >= 2:\n",
    "                second_last_population = last_population.copy()\n",
    "                last_population = population.copy()\n",
    "                \n",
    "            for coordinate in alive:\n",
    "                row = coordinate[0]\n",
    "                col = coordinate[1]\n",
    "                # set min and max row based on coordinates of cell and bounds of grid\n",
    "                min_row = row - 1 if row - 1 >= 0 else row\n",
    "                max_row = row + 1 if row + 1 < m else row\n",
    "                min_col = col - 1 if col - 1 >= 0 else col\n",
    "                max_col = col + 1 if col + 1 < n else col\n",
    "                neighbor_count = sum([(population[min_row][col] == 1), (population[row][min_col] == 1), (population[min_row][min_col] == 1), \\\n",
    "                                        (population[max_row][min_col] == 1), (population[min_row][max_col] == 1), (population[max_row][max_col] == 1), \\\n",
    "                                        (population[max_row][col] == 1), (population[row][max_col] == 1)])\n",
    "                \n",
    "                # each cell with zero, one, or at least 4 neighbors dies\n",
    "                if neighbor_count == 1 or neighbor_count == 0 or neighbor_count >= 4:\n",
    "                    population[coordinate] = 0\n",
    "            \n",
    "            dead = np.where(population == 0)\n",
    "            dead = zip(dead[0], dead[1])\n",
    "            \n",
    "            for coordinate in dead:\n",
    "                dead_row = coordinate[0]\n",
    "                dead_col = coordinate[1]\n",
    "                # set min and max row based on coordinates of cell and bounds of grid\n",
    "                min_row = dead_row - 1 if dead_row - 1 >= 0 else dead_row\n",
    "                max_row = dead_row + 1 if dead_row + 1 < m else dead_row\n",
    "                min_col = dead_col - 1 if dead_col - 1 >= 0 else dead_col\n",
    "                max_col = dead_col + 1 if dead_col + 1 < n else dead_col\n",
    "                neighbor_count = sum([(population[min_row][dead_col] == 1), (population[dead_row][min_col] == 1), (population[min_row][min_col] == 1), \\\n",
    "                                        (population[max_row][min_col] == 1), (population[min_row][max_col] == 1), (population[max_row][max_col] == 1), \\\n",
    "                                        (population[max_row][dead_col] == 1), (population[dead_row][max_col] == 1)])\n",
    "                # each empty space with three neighbors becomes populated:\n",
    "                if neighbor_count == 3:\n",
    "                    population[coordinate] = 1\n",
    "                    \n",
    "            # check conditions for simulation to end\n",
    "            # all dead cells\n",
    "            if (np.sum(population)) == 0: \n",
    "                SimulationComplete = True\n",
    "            # the state from two iterations ago equals the current state\n",
    "            elif iterations > 3 and (population == second_last_population).all() == True:\n",
    "                SimulationComplete = True\n",
    "            # if simulation complete, return iterations and break loop\n",
    "            if SimulationComplete == True:\n",
    "                return iterations\n",
    "            # print(population)\n",
    "        \n",
    "    return \"Simulation Ended\",  cell_live_die_or_multiply(base_population), base_population\n",
    "\n",
    "# game_of_life()"
   ]
  },
  {
   "cell_type": "code",
   "execution_count": 2,
   "id": "7cbae875-3244-49d5-8de7-89c2d3c65c1b",
   "metadata": {},
   "outputs": [
    {
     "name": "stdout",
     "output_type": "stream",
     "text": [
      "11.249\n"
     ]
    }
   ],
   "source": [
    "trials = {}\n",
    "# getting estimate of average number of iterations before simulation is complete\n",
    "# using random board shapes between 3 and 100 rows and 3 and 100 columns\n",
    "for i in range(1000):\n",
    "    trials[i] = game_of_life(np.random.randint(3, 100, 1)[0], np.random.randint(3, 100, 1)[0])[1]\n",
    "\n",
    "print(sum(trials.values())/len(trials))"
   ]
  }
 ],
 "metadata": {
  "kernelspec": {
   "display_name": "Python 3 (ipykernel)",
   "language": "python",
   "name": "python3"
  },
  "language_info": {
   "codemirror_mode": {
    "name": "ipython",
    "version": 3
   },
   "file_extension": ".py",
   "mimetype": "text/x-python",
   "name": "python",
   "nbconvert_exporter": "python",
   "pygments_lexer": "ipython3",
   "version": "3.12.3"
  }
 },
 "nbformat": 4,
 "nbformat_minor": 5
}
