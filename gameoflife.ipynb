{
 "cells": [
  {
   "cell_type": "code",
   "execution_count": 1,
   "id": "3086a8fb-636a-4951-87da-744dae6a4430",
   "metadata": {},
   "outputs": [],
   "source": [
    "from numpy.random import Generator, MT19937, PCG64\n",
    "from matplotlib import pyplot as plt\n",
    "from scipy.stats import ttest_ind\n",
    "from collections import Counter\n",
    "import numpy as np\n",
    "import random\n",
    "import statistics"
   ]
  },
  {
   "cell_type": "code",
   "execution_count": 2,
   "id": "3c35efb2-2eda-4355-9273-aa218955260e",
   "metadata": {},
   "outputs": [],
   "source": [
    "MT = Generator(MT19937()) # Mersenne Twister generator\n",
    "PCG = Generator(PCG64()) # O’Neill’s permutation congruential generator\n",
    "\n",
    "def game_of_life(m = 10, n = 10, show_plot = False, rng = MT):\n",
    "    # initialize blank board\n",
    "    base_population = np.zeros((m,n), dtype = int)\n",
    "    \n",
    "    # randomly select number of cells to be initialized with starting state alive or value of 1\n",
    "    rand_num_ones = int(rng.random() * m * n)\n",
    "    \n",
    "    # generate random numbers for row and column indices\n",
    "    rand_ms = rng.integers(low = 0, high = m, size = rand_num_ones)\n",
    "    rand_ns = rng.integers(low = 0, high = n, size = rand_num_ones)\n",
    "    \n",
    "    # set random coordinates above equal to one in the base array of zeros\n",
    "    alive = {}\n",
    "    for i in range(rand_num_ones):\n",
    "        base_population[rand_ms[i], rand_ns[i]] = 1  \n",
    "\n",
    "    def cell_live_die_or_multiply(original_population):\n",
    "        population = original_population.copy()\n",
    "        iterations = 0\n",
    "        SimulationComplete = False\n",
    "        \n",
    "        while True:\n",
    "            iterations += 1\n",
    "            if iterations == 1:\n",
    "                second_last_population = np.zeros((population.shape[0], population.shape[1]))\n",
    "                last_population = original_population.copy() # making copy to check if 2 states ago equals current state -- then in a repeating sequence\n",
    "            elif iterations >= 2:\n",
    "                second_last_population = last_population.copy()\n",
    "                last_population = population.copy()\n",
    "                \n",
    "            for coordinate in alive:\n",
    "                row = coordinate[0]\n",
    "                col = coordinate[1]\n",
    "                # set min and max row based on coordinates of cell and bounds of grid\n",
    "                min_row = row - 1 if row - 1 >= 0 else row\n",
    "                max_row = row + 1 if row + 1 < m else row\n",
    "                min_col = col - 1 if col - 1 >= 0 else col\n",
    "                max_col = col + 1 if col + 1 < n else col\n",
    "                neighbor_count = sum([(population[min_row][col] == 1), (population[row][min_col] == 1), (population[min_row][min_col] == 1), \\\n",
    "                                        (population[max_row][min_col] == 1), (population[min_row][max_col] == 1), (population[max_row][max_col] == 1), \\\n",
    "                                        (population[max_row][col] == 1), (population[row][max_col] == 1)])\n",
    "                \n",
    "                # each cell with zero, one, or at least 4 neighbors dies\n",
    "                if neighbor_count == 1 or neighbor_count == 0 or neighbor_count >= 4:\n",
    "                    population[coordinate] = 0\n",
    "            \n",
    "            dead = np.where(population == 0)\n",
    "            dead = zip(dead[0], dead[1])\n",
    "            \n",
    "            for coordinate in dead:\n",
    "                dead_row = coordinate[0]\n",
    "                dead_col = coordinate[1]\n",
    "                # set min and max row based on coordinates of cell and bounds of grid\n",
    "                min_row = dead_row - 1 if dead_row - 1 >= 0 else dead_row\n",
    "                max_row = dead_row + 1 if dead_row + 1 < m else dead_row\n",
    "                min_col = dead_col - 1 if dead_col - 1 >= 0 else dead_col\n",
    "                max_col = dead_col + 1 if dead_col + 1 < n else dead_col\n",
    "                neighbor_count = sum([(population[min_row][dead_col] == 1), (population[dead_row][min_col] == 1), (population[min_row][min_col] == 1), \\\n",
    "                                        (population[max_row][min_col] == 1), (population[min_row][max_col] == 1), (population[max_row][max_col] == 1), \\\n",
    "                                        (population[max_row][dead_col] == 1), (population[dead_row][max_col] == 1)])\n",
    "                # each empty space with three neighbors becomes populated:\n",
    "                if neighbor_count == 3:\n",
    "                    population[coordinate] = 1\n",
    "                    \n",
    "            if show_plot == True: # display plot of current population (not an animation)\n",
    "                plt.imshow(population, interpolation='nearest')\n",
    "                plt.show()        \n",
    "                \n",
    "            # check conditions for simulation to end\n",
    "            # all dead cells\n",
    "            if (np.sum(population)) == 0: \n",
    "                SimulationComplete = True\n",
    "            # the state from two iterations ago equals the current state\n",
    "            elif iterations > 3 and (population == second_last_population).all() == True:\n",
    "                SimulationComplete = True\n",
    "            # if simulation complete, return iterations and break loop\n",
    "            if SimulationComplete == True:\n",
    "                return iterations\n",
    "            # print(population)\n",
    "        \n",
    "    return \"Simulation Ended\",  cell_live_die_or_multiply(base_population), base_population"
   ]
  },
  {
   "cell_type": "code",
   "execution_count": 3,
   "id": "7cbae875-3244-49d5-8de7-89c2d3c65c1b",
   "metadata": {},
   "outputs": [],
   "source": [
    "def eval_game(runs = 10000, rng_name = MT):\n",
    "    trials = {}\n",
    "    starting_states = []\n",
    "    # getting estimate of average number of iterations before simulation is complete\n",
    "    # using random board shapes between 3 and 100 rows and 3 and 100 columns\n",
    "    for i in range(runs):\n",
    "        game_round = game_of_life(np.random.randint(3, 100, 1)[0], np.random.randint(3, 100, 1)[0], rng_name)\n",
    "        trials[i] = game_round[1]\n",
    "        starting_states.append(''.join(map(str, game_round[2].flatten().tolist()))) # condense np array to list and join as string \n",
    "                                                                                  # to check for repeat starting states\n",
    "    print(str(rng_name))      \n",
    "    print('Max Non-Unique Starting State:', Counter(starting_states).most_common()[:1][0][1])\n",
    "    print('Average Number of Iterations: ', sum(trials.values())/len(trials))\n",
    "    print('Min Iterations: ', min(trials.values()))\n",
    "    print('Max Iterations: ', max(trials.values()))\n",
    "    print('Median Interations: ', statistics.median(sorted(trials.values())))\n",
    "    return trials"
   ]
  },
  {
   "cell_type": "code",
   "execution_count": 4,
   "id": "e6cdd015-5908-4dd4-9d2d-5b59019de828",
   "metadata": {},
   "outputs": [
    {
     "name": "stdout",
     "output_type": "stream",
     "text": [
      "Generator(MT19937)\n",
      "Max Non-Unique Starting State: 1\n",
      "Average Number of Iterations:  10.4127\n",
      "Min Iterations:  1\n",
      "Max Iterations:  192\n",
      "Median Interations:  7.0\n",
      "2.19 ms ± 52.6 μs per loop (mean ± std. dev. of 7 runs, 1,000 loops each)\n",
      "\n",
      "\n",
      "Generator(PCG64)\n",
      "Max Non-Unique Starting State: 2\n",
      "Average Number of Iterations:  10.3483\n",
      "Min Iterations:  1\n",
      "Max Iterations:  164\n",
      "Median Interations:  7.0\n",
      "2.06 ms ± 278 μs per loop (mean ± std. dev. of 7 runs, 1,000 loops each)\n"
     ]
    }
   ],
   "source": [
    "# Mersenne Twister and PCG, 10000 runs\n",
    "MT_samples = eval_game(rng_name = MT)\n",
    "%timeit -n 1000 -r 7 game_of_life() # 7 runs, 1000 loops\n",
    "print('\\n')\n",
    "PCG_samples = eval_game(rng_name = PCG)\n",
    "%timeit -n 1000 -r 7 game_of_life(rng = PCG)"
   ]
  },
  {
   "cell_type": "code",
   "execution_count": 5,
   "id": "748abf73-5c61-4354-a944-ca1a73c2a684",
   "metadata": {},
   "outputs": [
    {
     "name": "stdout",
     "output_type": "stream",
     "text": [
      "T-Test for whether means of the MT and PCG number of generations are equal\n",
      "T-statistic: 0.3713265609246933\n",
      "p-value: 0.7103982508521827\n",
      "There is no significant difference between the number of iterations of the PRN generators.\n"
     ]
    }
   ],
   "source": [
    "# Eval difference in means\n",
    "print('T-Test for whether means of the MT and PCG number of generations are equal')\n",
    "t_statistic, p_value = ttest_ind(list(MT_samples.values()), list(PCG_samples.values())) # two-sample t-test\n",
    "print(\"T-statistic:\",  t_statistic)\n",
    "print(\"p-value:\", p_value)\n",
    "\n",
    "if p_value < 0.05:\n",
    "    print(\"There is a significant difference between the number of iterations of the PRN generators.\")\n",
    "else:\n",
    "    print(\"There is no significant difference between the number of iterations of the PRN generators.\")"
   ]
  }
 ],
 "metadata": {
  "kernelspec": {
   "display_name": "Python 3 (ipykernel)",
   "language": "python",
   "name": "python3"
  },
  "language_info": {
   "codemirror_mode": {
    "name": "ipython",
    "version": 3
   },
   "file_extension": ".py",
   "mimetype": "text/x-python",
   "name": "python",
   "nbconvert_exporter": "python",
   "pygments_lexer": "ipython3",
   "version": "3.12.3"
  }
 },
 "nbformat": 4,
 "nbformat_minor": 5
}
